{
 "cells": [
  {
   "cell_type": "code",
   "execution_count": 21,
   "id": "3037f3fb",
   "metadata": {},
   "outputs": [],
   "source": [
    "import numpy as np\n",
    "import astropy.io.fits as pyfits\n",
    "import matplotlib.pyplot as plt\n",
    "import json\n",
    "import pandas"
   ]
  },
  {
   "cell_type": "code",
   "execution_count": 30,
   "id": "bff77073",
   "metadata": {},
   "outputs": [],
   "source": [
    "input_file = \"NGC7469.fits\"\n",
    "targ_name = \"NGC7469\"\n",
    "aperture_radius = 15 # arcsec\n",
    "data_dir = \"/Users/dkakkad/work/research_projects/BASS/muse_cubes/\""
   ]
  },
  {
   "cell_type": "code",
   "execution_count": 31,
   "id": "e84f9296",
   "metadata": {},
   "outputs": [],
   "source": [
    "def wl_cube_muse(fits_cube):\n",
    "    cube = pyfits.open(fits_cube)\n",
    "    crpix = cube[1].header[\"CRPIX3\"]\n",
    "    crval = cube[1].header[\"CRVAL3\"]\n",
    "    cdel  = cube[1].header[\"CD3_3\"]\n",
    "    num = cube[1].header[\"NAXIS3\"]\n",
    "    wl = (np.linspace(1,num,num) - crpix)*cdel + crval\n",
    "    return wl"
   ]
  },
  {
   "cell_type": "code",
   "execution_count": 32,
   "id": "bc5433cd",
   "metadata": {},
   "outputs": [],
   "source": [
    "def aper_circ(img_data, x0, y0, R):\n",
    "    Ny,Nx = np.shape(img_data)\n",
    "    x,y = np.arange(Nx),np.arange(Ny)\n",
    "    xgrid, ygrid = np.meshgrid(x,y)\n",
    "    rgrid = ((xgrid-x0)**2+(ygrid-y0)**2)**0.5\n",
    "    w = np.where(rgrid < R)\n",
    "    flux = np.sum(img_data[w])#.sum()\n",
    "    return flux"
   ]
  },
  {
   "cell_type": "code",
   "execution_count": 33,
   "id": "648dea90",
   "metadata": {},
   "outputs": [],
   "source": [
    "targ_cube = pyfits.open(data_dir+input_file)\n",
    "wl = wl_cube_muse(data_dir+input_file)\n",
    "\n",
    "sci_data = targ_cube[1].data\n",
    "Nz,Ny,Nx = np.shape(sci_data)"
   ]
  },
  {
   "cell_type": "code",
   "execution_count": 34,
   "id": "127af150",
   "metadata": {},
   "outputs": [],
   "source": [
    "with open(\"phot_bands.json\",\"r\") as read_file:\n",
    "    data = json.load(read_file)\n",
    "    \n",
    "phot_bands = data['phot_bands']"
   ]
  },
  {
   "cell_type": "code",
   "execution_count": 35,
   "id": "5f08ec37",
   "metadata": {},
   "outputs": [
    {
     "name": "stdout",
     "output_type": "stream",
     "text": [
      "B = 17.88 mJy\n",
      "G = 20.68 mJy\n",
      "V = 26.80 mJy\n",
      "R = 41.68 mJy\n"
     ]
    }
   ],
   "source": [
    "# Iterate through all the photometric bands\n",
    "\n",
    "new_hdul = pyfits.HDUList()\n",
    "new_hdul.append(pyfits.ImageHDU([0], name=\"Primary\"))\n",
    "for i in range(0,len(phot_bands)):\n",
    "    #print(\"Working on \"+phot_bands[i]['band'])\n",
    "    cenwave = phot_bands[i]['cenwave']\n",
    "    bandwidth = phot_bands[i]['bandwidth']\n",
    "    filt_wl = np.where((wl>cenwave-bandwidth/2)&(wl<cenwave+bandwidth/2))\n",
    "    \n",
    "    filt_img = [[np.mean(sci_data[:,j,i][filt_wl]) for j in range(0,Ny)] for i in range(0,Nx)]\n",
    "    filt_img = np.array(filt_img)\n",
    "    new_hdul.append(pyfits.ImageHDU(filt_img, header=targ_cube[1].header, name=phot_bands[i]['band']))\n",
    "    \n",
    "    filt_img[np.isnan(filt_img)] = 0\n",
    "    \n",
    "    y0,x0 = np.where(filt_img == np.max(filt_img))\n",
    "    \n",
    "    #plt.imshow(filt_img, origin='lower')\n",
    "    \n",
    "    f_lambda = aper_circ(filt_img,x0[0],y0[0],int(aperture_radius/0.2))*1.0e-20 # erg/s/cm2/A\n",
    "    \n",
    "    # erg/s/cm2/Hz; formula from https://hea-www.harvard.edu/~pgreen/figs/Conversions.pdf\n",
    "    f_nu_Jy = 3.34e+4*cenwave*cenwave*f_lambda # Jy\n",
    "    \n",
    "    data = {\"Band\":phot_bands[i]['band'],\"Flux [mJy]\":\"{:.2f}\".format(f_nu_Jy*1000)}\n",
    "    \n",
    "    print(phot_bands[i]['band']+\" = \"+\"{:.2f}\".format(f_nu_Jy*1000)+\" mJy\") # mJy\n",
    "    \n",
    "new_hdul.writeto(\"MUSE_photometry_\"+targ_name+\".fits\",overwrite=True)"
   ]
  },
  {
   "cell_type": "code",
   "execution_count": null,
   "id": "3ca91ff5",
   "metadata": {},
   "outputs": [],
   "source": []
  }
 ],
 "metadata": {
  "kernelspec": {
   "display_name": "Python 3 (ipykernel)",
   "language": "python",
   "name": "python3"
  },
  "language_info": {
   "codemirror_mode": {
    "name": "ipython",
    "version": 3
   },
   "file_extension": ".py",
   "mimetype": "text/x-python",
   "name": "python",
   "nbconvert_exporter": "python",
   "pygments_lexer": "ipython3",
   "version": "3.9.7"
  }
 },
 "nbformat": 4,
 "nbformat_minor": 5
}
